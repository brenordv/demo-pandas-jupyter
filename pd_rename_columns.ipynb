{
 "cells": [
  {
   "cell_type": "markdown",
   "source": [
    "# Loading Sample Data"
   ],
   "metadata": {
    "collapsed": false,
    "pycharm": {
     "name": "#%% md\n"
    }
   }
  },
  {
   "cell_type": "code",
   "execution_count": 2,
   "outputs": [],
   "source": [
    "import pandas as pd\n",
    "\n",
    "df = pd.read_csv(\"https://raw.githubusercontent.com/brenordv/data-samples/main/csv/NASA/missionstars.csv\", comment=\"#\")"
   ],
   "metadata": {
    "collapsed": false,
    "pycharm": {
     "name": "#%%\n"
    }
   }
  },
  {
   "cell_type": "code",
   "execution_count": 3,
   "outputs": [
    {
     "data": {
      "text/plain": "   rowid star_name hip_name    hd_name   gj_name                    tm_name  \\\n0      1   HIP 171  HIP 171  HD 224930  GJ 914 A  2MASS J00021014+2704570 A   \n1      2    HD 142  HIP 522     HD 142  GJ 4.2 A  2MASS J00061921-4904307 A   \n2      3   HIP 544  HIP 544     HD 166      GJ 5    2MASS J00063674+2901175   \n3      4   HIP 677  HIP 677     HD 358       NaN    2MASS J00082326+2905253   \n4      5   HIP 746  HIP 746     HD 432      GJ 8    2MASS J00091071+5908591   \n\n   st_exocatflag  st_coronagflag  st_starshadeflag  st_wfirstflag  ...  \\\n0              1               0                 1              0  ...   \n1              1               1                 0              0  ...   \n2              1               0                 1              0  ...   \n3              1               1                 0              0  ...   \n4              1               1                 0              0  ...   \n\n   st_wise1lim  st_wise2  st_wise2err st_wise2lim  st_wise3 st_wise3err  \\\n0          NaN       NaN          NaN         NaN       NaN         NaN   \n1          0.0     3.636        0.118         0.0      4.32       0.013   \n2          NaN       NaN          NaN         NaN       NaN         NaN   \n3          NaN       NaN          NaN         NaN       NaN         NaN   \n4          NaN       NaN          NaN         NaN       NaN         NaN   \n\n   st_wise3lim  st_wise4  st_wise4err  st_wise4lim  \n0          NaN       NaN          NaN          NaN  \n1          0.0     4.384        0.025          0.0  \n2          NaN       NaN          NaN          NaN  \n3          NaN       NaN          NaN          NaN  \n4          NaN       NaN          NaN          NaN  \n\n[5 rows x 108 columns]",
      "text/html": "<div>\n<style scoped>\n    .dataframe tbody tr th:only-of-type {\n        vertical-align: middle;\n    }\n\n    .dataframe tbody tr th {\n        vertical-align: top;\n    }\n\n    .dataframe thead th {\n        text-align: right;\n    }\n</style>\n<table border=\"1\" class=\"dataframe\">\n  <thead>\n    <tr style=\"text-align: right;\">\n      <th></th>\n      <th>rowid</th>\n      <th>star_name</th>\n      <th>hip_name</th>\n      <th>hd_name</th>\n      <th>gj_name</th>\n      <th>tm_name</th>\n      <th>st_exocatflag</th>\n      <th>st_coronagflag</th>\n      <th>st_starshadeflag</th>\n      <th>st_wfirstflag</th>\n      <th>...</th>\n      <th>st_wise1lim</th>\n      <th>st_wise2</th>\n      <th>st_wise2err</th>\n      <th>st_wise2lim</th>\n      <th>st_wise3</th>\n      <th>st_wise3err</th>\n      <th>st_wise3lim</th>\n      <th>st_wise4</th>\n      <th>st_wise4err</th>\n      <th>st_wise4lim</th>\n    </tr>\n  </thead>\n  <tbody>\n    <tr>\n      <th>0</th>\n      <td>1</td>\n      <td>HIP 171</td>\n      <td>HIP 171</td>\n      <td>HD 224930</td>\n      <td>GJ 914 A</td>\n      <td>2MASS J00021014+2704570 A</td>\n      <td>1</td>\n      <td>0</td>\n      <td>1</td>\n      <td>0</td>\n      <td>...</td>\n      <td>NaN</td>\n      <td>NaN</td>\n      <td>NaN</td>\n      <td>NaN</td>\n      <td>NaN</td>\n      <td>NaN</td>\n      <td>NaN</td>\n      <td>NaN</td>\n      <td>NaN</td>\n      <td>NaN</td>\n    </tr>\n    <tr>\n      <th>1</th>\n      <td>2</td>\n      <td>HD 142</td>\n      <td>HIP 522</td>\n      <td>HD 142</td>\n      <td>GJ 4.2 A</td>\n      <td>2MASS J00061921-4904307 A</td>\n      <td>1</td>\n      <td>1</td>\n      <td>0</td>\n      <td>0</td>\n      <td>...</td>\n      <td>0.0</td>\n      <td>3.636</td>\n      <td>0.118</td>\n      <td>0.0</td>\n      <td>4.32</td>\n      <td>0.013</td>\n      <td>0.0</td>\n      <td>4.384</td>\n      <td>0.025</td>\n      <td>0.0</td>\n    </tr>\n    <tr>\n      <th>2</th>\n      <td>3</td>\n      <td>HIP 544</td>\n      <td>HIP 544</td>\n      <td>HD 166</td>\n      <td>GJ 5</td>\n      <td>2MASS J00063674+2901175</td>\n      <td>1</td>\n      <td>0</td>\n      <td>1</td>\n      <td>0</td>\n      <td>...</td>\n      <td>NaN</td>\n      <td>NaN</td>\n      <td>NaN</td>\n      <td>NaN</td>\n      <td>NaN</td>\n      <td>NaN</td>\n      <td>NaN</td>\n      <td>NaN</td>\n      <td>NaN</td>\n      <td>NaN</td>\n    </tr>\n    <tr>\n      <th>3</th>\n      <td>4</td>\n      <td>HIP 677</td>\n      <td>HIP 677</td>\n      <td>HD 358</td>\n      <td>NaN</td>\n      <td>2MASS J00082326+2905253</td>\n      <td>1</td>\n      <td>1</td>\n      <td>0</td>\n      <td>0</td>\n      <td>...</td>\n      <td>NaN</td>\n      <td>NaN</td>\n      <td>NaN</td>\n      <td>NaN</td>\n      <td>NaN</td>\n      <td>NaN</td>\n      <td>NaN</td>\n      <td>NaN</td>\n      <td>NaN</td>\n      <td>NaN</td>\n    </tr>\n    <tr>\n      <th>4</th>\n      <td>5</td>\n      <td>HIP 746</td>\n      <td>HIP 746</td>\n      <td>HD 432</td>\n      <td>GJ 8</td>\n      <td>2MASS J00091071+5908591</td>\n      <td>1</td>\n      <td>1</td>\n      <td>0</td>\n      <td>0</td>\n      <td>...</td>\n      <td>NaN</td>\n      <td>NaN</td>\n      <td>NaN</td>\n      <td>NaN</td>\n      <td>NaN</td>\n      <td>NaN</td>\n      <td>NaN</td>\n      <td>NaN</td>\n      <td>NaN</td>\n      <td>NaN</td>\n    </tr>\n  </tbody>\n</table>\n<p>5 rows × 108 columns</p>\n</div>"
     },
     "execution_count": 3,
     "metadata": {},
     "output_type": "execute_result"
    }
   ],
   "source": [
    "df.head()"
   ],
   "metadata": {
    "collapsed": false,
    "pycharm": {
     "name": "#%%\n"
    }
   }
  },
  {
   "cell_type": "markdown",
   "source": [
    "# Renaming columns\n",
    "\n",
    "- rowid -> id\n",
    "- star_name -> star\n",
    "- hip_name -> hip"
   ],
   "metadata": {
    "collapsed": false,
    "pycharm": {
     "name": "#%% md\n"
    }
   }
  },
  {
   "cell_type": "code",
   "execution_count": 4,
   "outputs": [
    {
     "data": {
      "text/plain": "      id        star         hip    hd_name   gj_name  \\\n0      1     HIP 171     HIP 171  HD 224930  GJ 914 A   \n1      2      HD 142     HIP 522     HD 142  GJ 4.2 A   \n2      3     HIP 544     HIP 544     HD 166      GJ 5   \n3      4     HIP 677     HIP 677     HD 358       NaN   \n4      5     HIP 746     HIP 746     HD 432      GJ 8   \n..   ...         ...         ...        ...       ...   \n355  356     gam Cep  HIP 116727  HD 222404    GJ 903   \n356  357  HIP 116771  HIP 116771  HD 222368    GJ 904   \n357  358  HIP 117712  HIP 117712  HD 223778  GJ 909 A   \n358  359  HIP 118268  HIP 118268  HD 224617       NaN   \n359  360      GJ 317         NaN        NaN    GJ 317   \n\n                       tm_name  st_exocatflag  st_coronagflag  \\\n0    2MASS J00021014+2704570 A              1               0   \n1    2MASS J00061921-4904307 A              1               1   \n2      2MASS J00063674+2901175              1               0   \n3      2MASS J00082326+2905253              1               1   \n4      2MASS J00091071+5908591              1               1   \n..                         ...            ...             ...   \n355    2MASS J23392083+7737563              1               1   \n356    2MASS J23395706+0537343              1               1   \n357  2MASS J23522534+7532403 A              1               0   \n358    2MASS J23591867+0651478              0               1   \n359    2MASS J08405923-2327232              0               0   \n\n     st_starshadeflag  st_wfirstflag  ...  st_wise1lim  st_wise2  st_wise2err  \\\n0                   1              0  ...          NaN       NaN          NaN   \n1                   0              0  ...          0.0     3.636        0.118   \n2                   1              0  ...          NaN       NaN          NaN   \n3                   0              0  ...          NaN       NaN          NaN   \n4                   0              0  ...          NaN       NaN          NaN   \n..                ...            ...  ...          ...       ...          ...   \n355                 1              0  ...         -1.0    -1.126          NaN   \n356                 1              0  ...          NaN       NaN          NaN   \n357                 0              1  ...          NaN       NaN          NaN   \n358                 0              0  ...          NaN       NaN          NaN   \n359                 1              0  ...          0.0     6.766        0.021   \n\n    st_wise2lim  st_wise3 st_wise3err  st_wise3lim  st_wise4  st_wise4err  \\\n0           NaN       NaN         NaN          NaN       NaN          NaN   \n1           0.0     4.320       0.013          0.0     4.384        0.025   \n2           NaN       NaN         NaN          NaN       NaN          NaN   \n3           NaN       NaN         NaN          NaN       NaN          NaN   \n4           NaN       NaN         NaN          NaN       NaN          NaN   \n..          ...       ...         ...          ...       ...          ...   \n355        -1.0     0.900       0.058          0.0     0.839        0.017   \n356         NaN       NaN         NaN          NaN       NaN          NaN   \n357         NaN       NaN         NaN          NaN       NaN          NaN   \n358         NaN       NaN         NaN          NaN       NaN          NaN   \n359         0.0     6.704       0.016          0.0     6.502        0.059   \n\n     st_wise4lim  \n0            NaN  \n1            0.0  \n2            NaN  \n3            NaN  \n4            NaN  \n..           ...  \n355          0.0  \n356          NaN  \n357          NaN  \n358          NaN  \n359          0.0  \n\n[360 rows x 108 columns]",
      "text/html": "<div>\n<style scoped>\n    .dataframe tbody tr th:only-of-type {\n        vertical-align: middle;\n    }\n\n    .dataframe tbody tr th {\n        vertical-align: top;\n    }\n\n    .dataframe thead th {\n        text-align: right;\n    }\n</style>\n<table border=\"1\" class=\"dataframe\">\n  <thead>\n    <tr style=\"text-align: right;\">\n      <th></th>\n      <th>id</th>\n      <th>star</th>\n      <th>hip</th>\n      <th>hd_name</th>\n      <th>gj_name</th>\n      <th>tm_name</th>\n      <th>st_exocatflag</th>\n      <th>st_coronagflag</th>\n      <th>st_starshadeflag</th>\n      <th>st_wfirstflag</th>\n      <th>...</th>\n      <th>st_wise1lim</th>\n      <th>st_wise2</th>\n      <th>st_wise2err</th>\n      <th>st_wise2lim</th>\n      <th>st_wise3</th>\n      <th>st_wise3err</th>\n      <th>st_wise3lim</th>\n      <th>st_wise4</th>\n      <th>st_wise4err</th>\n      <th>st_wise4lim</th>\n    </tr>\n  </thead>\n  <tbody>\n    <tr>\n      <th>0</th>\n      <td>1</td>\n      <td>HIP 171</td>\n      <td>HIP 171</td>\n      <td>HD 224930</td>\n      <td>GJ 914 A</td>\n      <td>2MASS J00021014+2704570 A</td>\n      <td>1</td>\n      <td>0</td>\n      <td>1</td>\n      <td>0</td>\n      <td>...</td>\n      <td>NaN</td>\n      <td>NaN</td>\n      <td>NaN</td>\n      <td>NaN</td>\n      <td>NaN</td>\n      <td>NaN</td>\n      <td>NaN</td>\n      <td>NaN</td>\n      <td>NaN</td>\n      <td>NaN</td>\n    </tr>\n    <tr>\n      <th>1</th>\n      <td>2</td>\n      <td>HD 142</td>\n      <td>HIP 522</td>\n      <td>HD 142</td>\n      <td>GJ 4.2 A</td>\n      <td>2MASS J00061921-4904307 A</td>\n      <td>1</td>\n      <td>1</td>\n      <td>0</td>\n      <td>0</td>\n      <td>...</td>\n      <td>0.0</td>\n      <td>3.636</td>\n      <td>0.118</td>\n      <td>0.0</td>\n      <td>4.320</td>\n      <td>0.013</td>\n      <td>0.0</td>\n      <td>4.384</td>\n      <td>0.025</td>\n      <td>0.0</td>\n    </tr>\n    <tr>\n      <th>2</th>\n      <td>3</td>\n      <td>HIP 544</td>\n      <td>HIP 544</td>\n      <td>HD 166</td>\n      <td>GJ 5</td>\n      <td>2MASS J00063674+2901175</td>\n      <td>1</td>\n      <td>0</td>\n      <td>1</td>\n      <td>0</td>\n      <td>...</td>\n      <td>NaN</td>\n      <td>NaN</td>\n      <td>NaN</td>\n      <td>NaN</td>\n      <td>NaN</td>\n      <td>NaN</td>\n      <td>NaN</td>\n      <td>NaN</td>\n      <td>NaN</td>\n      <td>NaN</td>\n    </tr>\n    <tr>\n      <th>3</th>\n      <td>4</td>\n      <td>HIP 677</td>\n      <td>HIP 677</td>\n      <td>HD 358</td>\n      <td>NaN</td>\n      <td>2MASS J00082326+2905253</td>\n      <td>1</td>\n      <td>1</td>\n      <td>0</td>\n      <td>0</td>\n      <td>...</td>\n      <td>NaN</td>\n      <td>NaN</td>\n      <td>NaN</td>\n      <td>NaN</td>\n      <td>NaN</td>\n      <td>NaN</td>\n      <td>NaN</td>\n      <td>NaN</td>\n      <td>NaN</td>\n      <td>NaN</td>\n    </tr>\n    <tr>\n      <th>4</th>\n      <td>5</td>\n      <td>HIP 746</td>\n      <td>HIP 746</td>\n      <td>HD 432</td>\n      <td>GJ 8</td>\n      <td>2MASS J00091071+5908591</td>\n      <td>1</td>\n      <td>1</td>\n      <td>0</td>\n      <td>0</td>\n      <td>...</td>\n      <td>NaN</td>\n      <td>NaN</td>\n      <td>NaN</td>\n      <td>NaN</td>\n      <td>NaN</td>\n      <td>NaN</td>\n      <td>NaN</td>\n      <td>NaN</td>\n      <td>NaN</td>\n      <td>NaN</td>\n    </tr>\n    <tr>\n      <th>...</th>\n      <td>...</td>\n      <td>...</td>\n      <td>...</td>\n      <td>...</td>\n      <td>...</td>\n      <td>...</td>\n      <td>...</td>\n      <td>...</td>\n      <td>...</td>\n      <td>...</td>\n      <td>...</td>\n      <td>...</td>\n      <td>...</td>\n      <td>...</td>\n      <td>...</td>\n      <td>...</td>\n      <td>...</td>\n      <td>...</td>\n      <td>...</td>\n      <td>...</td>\n      <td>...</td>\n    </tr>\n    <tr>\n      <th>355</th>\n      <td>356</td>\n      <td>gam Cep</td>\n      <td>HIP 116727</td>\n      <td>HD 222404</td>\n      <td>GJ 903</td>\n      <td>2MASS J23392083+7737563</td>\n      <td>1</td>\n      <td>1</td>\n      <td>1</td>\n      <td>0</td>\n      <td>...</td>\n      <td>-1.0</td>\n      <td>-1.126</td>\n      <td>NaN</td>\n      <td>-1.0</td>\n      <td>0.900</td>\n      <td>0.058</td>\n      <td>0.0</td>\n      <td>0.839</td>\n      <td>0.017</td>\n      <td>0.0</td>\n    </tr>\n    <tr>\n      <th>356</th>\n      <td>357</td>\n      <td>HIP 116771</td>\n      <td>HIP 116771</td>\n      <td>HD 222368</td>\n      <td>GJ 904</td>\n      <td>2MASS J23395706+0537343</td>\n      <td>1</td>\n      <td>1</td>\n      <td>1</td>\n      <td>0</td>\n      <td>...</td>\n      <td>NaN</td>\n      <td>NaN</td>\n      <td>NaN</td>\n      <td>NaN</td>\n      <td>NaN</td>\n      <td>NaN</td>\n      <td>NaN</td>\n      <td>NaN</td>\n      <td>NaN</td>\n      <td>NaN</td>\n    </tr>\n    <tr>\n      <th>357</th>\n      <td>358</td>\n      <td>HIP 117712</td>\n      <td>HIP 117712</td>\n      <td>HD 223778</td>\n      <td>GJ 909 A</td>\n      <td>2MASS J23522534+7532403 A</td>\n      <td>1</td>\n      <td>0</td>\n      <td>0</td>\n      <td>1</td>\n      <td>...</td>\n      <td>NaN</td>\n      <td>NaN</td>\n      <td>NaN</td>\n      <td>NaN</td>\n      <td>NaN</td>\n      <td>NaN</td>\n      <td>NaN</td>\n      <td>NaN</td>\n      <td>NaN</td>\n      <td>NaN</td>\n    </tr>\n    <tr>\n      <th>358</th>\n      <td>359</td>\n      <td>HIP 118268</td>\n      <td>HIP 118268</td>\n      <td>HD 224617</td>\n      <td>NaN</td>\n      <td>2MASS J23591867+0651478</td>\n      <td>0</td>\n      <td>1</td>\n      <td>0</td>\n      <td>0</td>\n      <td>...</td>\n      <td>NaN</td>\n      <td>NaN</td>\n      <td>NaN</td>\n      <td>NaN</td>\n      <td>NaN</td>\n      <td>NaN</td>\n      <td>NaN</td>\n      <td>NaN</td>\n      <td>NaN</td>\n      <td>NaN</td>\n    </tr>\n    <tr>\n      <th>359</th>\n      <td>360</td>\n      <td>GJ 317</td>\n      <td>NaN</td>\n      <td>NaN</td>\n      <td>GJ 317</td>\n      <td>2MASS J08405923-2327232</td>\n      <td>0</td>\n      <td>0</td>\n      <td>1</td>\n      <td>0</td>\n      <td>...</td>\n      <td>0.0</td>\n      <td>6.766</td>\n      <td>0.021</td>\n      <td>0.0</td>\n      <td>6.704</td>\n      <td>0.016</td>\n      <td>0.0</td>\n      <td>6.502</td>\n      <td>0.059</td>\n      <td>0.0</td>\n    </tr>\n  </tbody>\n</table>\n<p>360 rows × 108 columns</p>\n</div>"
     },
     "execution_count": 4,
     "metadata": {},
     "output_type": "execute_result"
    }
   ],
   "source": [
    "df.rename(columns={\n",
    "    \"rowid\": \"id\",\n",
    "    \"star_name\": \"star\",\n",
    "    \"hip_name\": \"hip\"\n",
    "})"
   ],
   "metadata": {
    "collapsed": false,
    "pycharm": {
     "name": "#%%\n"
    }
   }
  },
  {
   "cell_type": "markdown",
   "source": [
    "# Replacing characters in column name.\n",
    "- Changing _ to -."
   ],
   "metadata": {
    "collapsed": false,
    "pycharm": {
     "name": "#%% md\n"
    }
   }
  },
  {
   "cell_type": "code",
   "execution_count": 5,
   "outputs": [
    {
     "data": {
      "text/plain": "     rowid   star-name    hip-name    hd-name   gj-name  \\\n0        1     HIP 171     HIP 171  HD 224930  GJ 914 A   \n1        2      HD 142     HIP 522     HD 142  GJ 4.2 A   \n2        3     HIP 544     HIP 544     HD 166      GJ 5   \n3        4     HIP 677     HIP 677     HD 358       NaN   \n4        5     HIP 746     HIP 746     HD 432      GJ 8   \n..     ...         ...         ...        ...       ...   \n355    356     gam Cep  HIP 116727  HD 222404    GJ 903   \n356    357  HIP 116771  HIP 116771  HD 222368    GJ 904   \n357    358  HIP 117712  HIP 117712  HD 223778  GJ 909 A   \n358    359  HIP 118268  HIP 118268  HD 224617       NaN   \n359    360      GJ 317         NaN        NaN    GJ 317   \n\n                       tm-name  st-exocatflag  st-coronagflag  \\\n0    2MASS J00021014+2704570 A              1               0   \n1    2MASS J00061921-4904307 A              1               1   \n2      2MASS J00063674+2901175              1               0   \n3      2MASS J00082326+2905253              1               1   \n4      2MASS J00091071+5908591              1               1   \n..                         ...            ...             ...   \n355    2MASS J23392083+7737563              1               1   \n356    2MASS J23395706+0537343              1               1   \n357  2MASS J23522534+7532403 A              1               0   \n358    2MASS J23591867+0651478              0               1   \n359    2MASS J08405923-2327232              0               0   \n\n     st-starshadeflag  st-wfirstflag  ...  st-wise1lim  st-wise2  st-wise2err  \\\n0                   1              0  ...          NaN       NaN          NaN   \n1                   0              0  ...          0.0     3.636        0.118   \n2                   1              0  ...          NaN       NaN          NaN   \n3                   0              0  ...          NaN       NaN          NaN   \n4                   0              0  ...          NaN       NaN          NaN   \n..                ...            ...  ...          ...       ...          ...   \n355                 1              0  ...         -1.0    -1.126          NaN   \n356                 1              0  ...          NaN       NaN          NaN   \n357                 0              1  ...          NaN       NaN          NaN   \n358                 0              0  ...          NaN       NaN          NaN   \n359                 1              0  ...          0.0     6.766        0.021   \n\n    st-wise2lim  st-wise3 st-wise3err  st-wise3lim  st-wise4  st-wise4err  \\\n0           NaN       NaN         NaN          NaN       NaN          NaN   \n1           0.0     4.320       0.013          0.0     4.384        0.025   \n2           NaN       NaN         NaN          NaN       NaN          NaN   \n3           NaN       NaN         NaN          NaN       NaN          NaN   \n4           NaN       NaN         NaN          NaN       NaN          NaN   \n..          ...       ...         ...          ...       ...          ...   \n355        -1.0     0.900       0.058          0.0     0.839        0.017   \n356         NaN       NaN         NaN          NaN       NaN          NaN   \n357         NaN       NaN         NaN          NaN       NaN          NaN   \n358         NaN       NaN         NaN          NaN       NaN          NaN   \n359         0.0     6.704       0.016          0.0     6.502        0.059   \n\n     st-wise4lim  \n0            NaN  \n1            0.0  \n2            NaN  \n3            NaN  \n4            NaN  \n..           ...  \n355          0.0  \n356          NaN  \n357          NaN  \n358          NaN  \n359          0.0  \n\n[360 rows x 108 columns]",
      "text/html": "<div>\n<style scoped>\n    .dataframe tbody tr th:only-of-type {\n        vertical-align: middle;\n    }\n\n    .dataframe tbody tr th {\n        vertical-align: top;\n    }\n\n    .dataframe thead th {\n        text-align: right;\n    }\n</style>\n<table border=\"1\" class=\"dataframe\">\n  <thead>\n    <tr style=\"text-align: right;\">\n      <th></th>\n      <th>rowid</th>\n      <th>star-name</th>\n      <th>hip-name</th>\n      <th>hd-name</th>\n      <th>gj-name</th>\n      <th>tm-name</th>\n      <th>st-exocatflag</th>\n      <th>st-coronagflag</th>\n      <th>st-starshadeflag</th>\n      <th>st-wfirstflag</th>\n      <th>...</th>\n      <th>st-wise1lim</th>\n      <th>st-wise2</th>\n      <th>st-wise2err</th>\n      <th>st-wise2lim</th>\n      <th>st-wise3</th>\n      <th>st-wise3err</th>\n      <th>st-wise3lim</th>\n      <th>st-wise4</th>\n      <th>st-wise4err</th>\n      <th>st-wise4lim</th>\n    </tr>\n  </thead>\n  <tbody>\n    <tr>\n      <th>0</th>\n      <td>1</td>\n      <td>HIP 171</td>\n      <td>HIP 171</td>\n      <td>HD 224930</td>\n      <td>GJ 914 A</td>\n      <td>2MASS J00021014+2704570 A</td>\n      <td>1</td>\n      <td>0</td>\n      <td>1</td>\n      <td>0</td>\n      <td>...</td>\n      <td>NaN</td>\n      <td>NaN</td>\n      <td>NaN</td>\n      <td>NaN</td>\n      <td>NaN</td>\n      <td>NaN</td>\n      <td>NaN</td>\n      <td>NaN</td>\n      <td>NaN</td>\n      <td>NaN</td>\n    </tr>\n    <tr>\n      <th>1</th>\n      <td>2</td>\n      <td>HD 142</td>\n      <td>HIP 522</td>\n      <td>HD 142</td>\n      <td>GJ 4.2 A</td>\n      <td>2MASS J00061921-4904307 A</td>\n      <td>1</td>\n      <td>1</td>\n      <td>0</td>\n      <td>0</td>\n      <td>...</td>\n      <td>0.0</td>\n      <td>3.636</td>\n      <td>0.118</td>\n      <td>0.0</td>\n      <td>4.320</td>\n      <td>0.013</td>\n      <td>0.0</td>\n      <td>4.384</td>\n      <td>0.025</td>\n      <td>0.0</td>\n    </tr>\n    <tr>\n      <th>2</th>\n      <td>3</td>\n      <td>HIP 544</td>\n      <td>HIP 544</td>\n      <td>HD 166</td>\n      <td>GJ 5</td>\n      <td>2MASS J00063674+2901175</td>\n      <td>1</td>\n      <td>0</td>\n      <td>1</td>\n      <td>0</td>\n      <td>...</td>\n      <td>NaN</td>\n      <td>NaN</td>\n      <td>NaN</td>\n      <td>NaN</td>\n      <td>NaN</td>\n      <td>NaN</td>\n      <td>NaN</td>\n      <td>NaN</td>\n      <td>NaN</td>\n      <td>NaN</td>\n    </tr>\n    <tr>\n      <th>3</th>\n      <td>4</td>\n      <td>HIP 677</td>\n      <td>HIP 677</td>\n      <td>HD 358</td>\n      <td>NaN</td>\n      <td>2MASS J00082326+2905253</td>\n      <td>1</td>\n      <td>1</td>\n      <td>0</td>\n      <td>0</td>\n      <td>...</td>\n      <td>NaN</td>\n      <td>NaN</td>\n      <td>NaN</td>\n      <td>NaN</td>\n      <td>NaN</td>\n      <td>NaN</td>\n      <td>NaN</td>\n      <td>NaN</td>\n      <td>NaN</td>\n      <td>NaN</td>\n    </tr>\n    <tr>\n      <th>4</th>\n      <td>5</td>\n      <td>HIP 746</td>\n      <td>HIP 746</td>\n      <td>HD 432</td>\n      <td>GJ 8</td>\n      <td>2MASS J00091071+5908591</td>\n      <td>1</td>\n      <td>1</td>\n      <td>0</td>\n      <td>0</td>\n      <td>...</td>\n      <td>NaN</td>\n      <td>NaN</td>\n      <td>NaN</td>\n      <td>NaN</td>\n      <td>NaN</td>\n      <td>NaN</td>\n      <td>NaN</td>\n      <td>NaN</td>\n      <td>NaN</td>\n      <td>NaN</td>\n    </tr>\n    <tr>\n      <th>...</th>\n      <td>...</td>\n      <td>...</td>\n      <td>...</td>\n      <td>...</td>\n      <td>...</td>\n      <td>...</td>\n      <td>...</td>\n      <td>...</td>\n      <td>...</td>\n      <td>...</td>\n      <td>...</td>\n      <td>...</td>\n      <td>...</td>\n      <td>...</td>\n      <td>...</td>\n      <td>...</td>\n      <td>...</td>\n      <td>...</td>\n      <td>...</td>\n      <td>...</td>\n      <td>...</td>\n    </tr>\n    <tr>\n      <th>355</th>\n      <td>356</td>\n      <td>gam Cep</td>\n      <td>HIP 116727</td>\n      <td>HD 222404</td>\n      <td>GJ 903</td>\n      <td>2MASS J23392083+7737563</td>\n      <td>1</td>\n      <td>1</td>\n      <td>1</td>\n      <td>0</td>\n      <td>...</td>\n      <td>-1.0</td>\n      <td>-1.126</td>\n      <td>NaN</td>\n      <td>-1.0</td>\n      <td>0.900</td>\n      <td>0.058</td>\n      <td>0.0</td>\n      <td>0.839</td>\n      <td>0.017</td>\n      <td>0.0</td>\n    </tr>\n    <tr>\n      <th>356</th>\n      <td>357</td>\n      <td>HIP 116771</td>\n      <td>HIP 116771</td>\n      <td>HD 222368</td>\n      <td>GJ 904</td>\n      <td>2MASS J23395706+0537343</td>\n      <td>1</td>\n      <td>1</td>\n      <td>1</td>\n      <td>0</td>\n      <td>...</td>\n      <td>NaN</td>\n      <td>NaN</td>\n      <td>NaN</td>\n      <td>NaN</td>\n      <td>NaN</td>\n      <td>NaN</td>\n      <td>NaN</td>\n      <td>NaN</td>\n      <td>NaN</td>\n      <td>NaN</td>\n    </tr>\n    <tr>\n      <th>357</th>\n      <td>358</td>\n      <td>HIP 117712</td>\n      <td>HIP 117712</td>\n      <td>HD 223778</td>\n      <td>GJ 909 A</td>\n      <td>2MASS J23522534+7532403 A</td>\n      <td>1</td>\n      <td>0</td>\n      <td>0</td>\n      <td>1</td>\n      <td>...</td>\n      <td>NaN</td>\n      <td>NaN</td>\n      <td>NaN</td>\n      <td>NaN</td>\n      <td>NaN</td>\n      <td>NaN</td>\n      <td>NaN</td>\n      <td>NaN</td>\n      <td>NaN</td>\n      <td>NaN</td>\n    </tr>\n    <tr>\n      <th>358</th>\n      <td>359</td>\n      <td>HIP 118268</td>\n      <td>HIP 118268</td>\n      <td>HD 224617</td>\n      <td>NaN</td>\n      <td>2MASS J23591867+0651478</td>\n      <td>0</td>\n      <td>1</td>\n      <td>0</td>\n      <td>0</td>\n      <td>...</td>\n      <td>NaN</td>\n      <td>NaN</td>\n      <td>NaN</td>\n      <td>NaN</td>\n      <td>NaN</td>\n      <td>NaN</td>\n      <td>NaN</td>\n      <td>NaN</td>\n      <td>NaN</td>\n      <td>NaN</td>\n    </tr>\n    <tr>\n      <th>359</th>\n      <td>360</td>\n      <td>GJ 317</td>\n      <td>NaN</td>\n      <td>NaN</td>\n      <td>GJ 317</td>\n      <td>2MASS J08405923-2327232</td>\n      <td>0</td>\n      <td>0</td>\n      <td>1</td>\n      <td>0</td>\n      <td>...</td>\n      <td>0.0</td>\n      <td>6.766</td>\n      <td>0.021</td>\n      <td>0.0</td>\n      <td>6.704</td>\n      <td>0.016</td>\n      <td>0.0</td>\n      <td>6.502</td>\n      <td>0.059</td>\n      <td>0.0</td>\n    </tr>\n  </tbody>\n</table>\n<p>360 rows × 108 columns</p>\n</div>"
     },
     "execution_count": 5,
     "metadata": {},
     "output_type": "execute_result"
    }
   ],
   "source": [
    "# Just so we don't lose the original dataframe\n",
    "x = df.copy()\n",
    "x.columns = x.columns.str.replace(\"_\", \"-\")\n",
    "x"
   ],
   "metadata": {
    "collapsed": false,
    "pycharm": {
     "name": "#%%\n"
    }
   }
  }
 ],
 "metadata": {
  "kernelspec": {
   "display_name": "Python 3",
   "language": "python",
   "name": "python3"
  },
  "language_info": {
   "codemirror_mode": {
    "name": "ipython",
    "version": 2
   },
   "file_extension": ".py",
   "mimetype": "text/x-python",
   "name": "python",
   "nbconvert_exporter": "python",
   "pygments_lexer": "ipython2",
   "version": "2.7.6"
  }
 },
 "nbformat": 4,
 "nbformat_minor": 0
}